{
 "cells": [
  {
   "attachments": {},
   "cell_type": "markdown",
   "metadata": {},
   "source": [
    "# Dictionary models\n",
    "\n",
    "Here we evaluate the dictionary model.\n",
    "\n",
    "It does not need training, so it is tested on the entire dataset."
   ]
  },
  {
   "cell_type": "code",
   "execution_count": 1,
   "metadata": {},
   "outputs": [],
   "source": [
    "import re\n",
    "from dictionary_model import DictionaryTranslation\n",
    "\n",
    "import sys\n",
    "sys.path.append(\"../\")\n",
    "import Data\n",
    "from translation_utils import compute_metrics, print_example"
   ]
  },
  {
   "attachments": {},
   "cell_type": "markdown",
   "metadata": {},
   "source": [
    "## Entire Dataset, BlankSpace tokenizer"
   ]
  },
  {
   "cell_type": "code",
   "execution_count": 2,
   "metadata": {},
   "outputs": [],
   "source": [
    "title_re = re.compile(r\"[^a-zA-Z ]*((mr)|(ms)|(mrs)|(miss))[^a-zA-Z ]*\")\n",
    "remove_chars = re.compile(r\"[126\\[\\],<>]\")\n",
    "space_norm = re.compile(r\" +\")\n",
    "add_unk = re.compile(r\"\\?\")\n",
    "dash = re.compile(r\"(?<=[a-zA-Z0-9])-(?=[a-zA-Z0-9])\")\n",
    "\n",
    "def clean_english(x: str) -> str:\n",
    "    x = x.lower()\n",
    "    x = title_re.sub(\" \", x)\n",
    "    x = dash.sub(\" \", x)\n",
    "    x = remove_chars.sub(\" \", x)\n",
    "    x = add_unk.sub(\" \", x)\n",
    "    x = space_norm.sub(\" \", x)\n",
    "    return x.strip()\n",
    "\n",
    "def clean_etruscan(x: str) -> str:\n",
    "    x = x.lower()\n",
    "    x = remove_chars.sub(\" \", x)\n",
    "    x = space_norm.sub(\" \", x)\n",
    "    return x.strip()"
   ]
  },
  {
   "cell_type": "code",
   "execution_count": 3,
   "metadata": {},
   "outputs": [],
   "source": [
    "et, eng = Data.load_translation_dataset(etruscan_fn=clean_etruscan, english_fn=clean_english)"
   ]
  },
  {
   "cell_type": "code",
   "execution_count": 4,
   "metadata": {},
   "outputs": [
    {
     "name": "stdout",
     "output_type": "stream",
     "text": [
      "Vocabulary size: 821\n"
     ]
    }
   ],
   "source": [
    "model = DictionaryTranslation(Data._dir + \"ETP_POS.csv\", etruscan_fn=clean_etruscan, english_fn=clean_english)\n",
    "print(\"Vocabulary size:\", len(model.dict))"
   ]
  },
  {
   "cell_type": "code",
   "execution_count": 5,
   "metadata": {},
   "outputs": [
    {
     "data": {
      "text/plain": [
       "{'bleu': 0.16741008721357548,\n",
       " 'chrf': 9.120301935355664,\n",
       " 'ter': 89.79876701174828}"
      ]
     },
     "execution_count": 5,
     "metadata": {},
     "output_type": "execute_result"
    }
   ],
   "source": [
    "translations = [model.predict(i) for i in et]\n",
    "scores = compute_metrics(translations, eng)\n",
    "scores"
   ]
  },
  {
   "cell_type": "code",
   "execution_count": 6,
   "metadata": {},
   "outputs": [
    {
     "name": "stdout",
     "output_type": "stream",
     "text": [
      "------------------------------------------------------------\n",
      "Etruscan: cleusinas laris larisal clan\n",
      "Reference: laris cleusinas son of laris\n",
      "Prediction: cleusinas   son\n",
      "------------------------------------------------------------\n",
      "------------------------------------------------------------\n",
      "Etruscan: mi karkanas thahvna\n",
      "Reference: i am the container of karkana\n",
      "Prediction: i karkana container\n",
      "------------------------------------------------------------\n",
      "------------------------------------------------------------\n",
      "Etruscan: mi ei minpi capi mi numar thevruclnas qupes fulushla\n",
      "Reference: dont take me i am nunar i am the property of qupe thevrudnas the son of fulu\n",
      "Prediction: i not me take i  thevruclnas qupe \n",
      "------------------------------------------------------------\n",
      "------------------------------------------------------------\n",
      "Etruscan: mini muluvanice tetana velkasnas veleliiasi\n",
      "Reference: tetana velkasnas gave me to velellia\n",
      "Prediction: me gave tetana velkasnas veleliia\n",
      "------------------------------------------------------------\n",
      "------------------------------------------------------------\n",
      "Etruscan: itun turuce venel atelinas tinas dlniiaras\n",
      "Reference: venel atelinas dedicated this vase to the sons of tinia\n",
      "Prediction: this dedicated venel atelina tinia \n",
      "------------------------------------------------------------\n"
     ]
    }
   ],
   "source": [
    "print_example((et[:5], eng[:5], translations[:5]))"
   ]
  },
  {
   "attachments": {},
   "cell_type": "markdown",
   "metadata": {},
   "source": [
    "## ETP only, BlankSpace Tokenizer"
   ]
  },
  {
   "cell_type": "code",
   "execution_count": 7,
   "metadata": {},
   "outputs": [],
   "source": [
    "et_etp, eng_etp = Data.load_translation_dataset(subset=\"etp\", etruscan_fn=clean_etruscan, english_fn=clean_english)"
   ]
  },
  {
   "cell_type": "code",
   "execution_count": 8,
   "metadata": {},
   "outputs": [],
   "source": [
    "model_etp = DictionaryTranslation(Data._dir + \"ETP_POS.csv\", etruscan_fn=clean_etruscan, english_fn=clean_english)"
   ]
  },
  {
   "cell_type": "code",
   "execution_count": 9,
   "metadata": {},
   "outputs": [
    {
     "data": {
      "text/plain": [
       "{'bleu': 4.505159738640008,\n",
       " 'chrf': 40.77125596383003,\n",
       " 'ter': 68.13450760608487}"
      ]
     },
     "execution_count": 9,
     "metadata": {},
     "output_type": "execute_result"
    }
   ],
   "source": [
    "translations_etp = [model_etp.predict(i) for i in et_etp]\n",
    "scores_etp = compute_metrics(translations_etp, eng_etp)\n",
    "scores_etp"
   ]
  },
  {
   "cell_type": "code",
   "execution_count": 10,
   "metadata": {},
   "outputs": [
    {
     "name": "stdout",
     "output_type": "stream",
     "text": [
      "------------------------------------------------------------\n",
      "Etruscan: cleusinas laris larisal clan\n",
      "Reference: laris cleusinas son of laris\n",
      "Prediction: cleusinas   son\n",
      "------------------------------------------------------------\n",
      "------------------------------------------------------------\n",
      "Etruscan: mi karkanas thahvna\n",
      "Reference: i am the container of karkana\n",
      "Prediction: i karkana container\n",
      "------------------------------------------------------------\n",
      "------------------------------------------------------------\n",
      "Etruscan: mi ei minpi capi mi numar thevruclnas qupes fulushla\n",
      "Reference: dont take me i am nunar i am the property of qupe thevrudnas the son of fulu\n",
      "Prediction: i not me take i  thevruclnas qupe \n",
      "------------------------------------------------------------\n",
      "------------------------------------------------------------\n",
      "Etruscan: mini muluvanice tetana velkasnas veleliiasi\n",
      "Reference: tetana velkasnas gave me to velellia\n",
      "Prediction: me gave tetana velkasnas veleliia\n",
      "------------------------------------------------------------\n",
      "------------------------------------------------------------\n",
      "Etruscan: itun turuce venel atelinas tinas dlniiaras\n",
      "Reference: venel atelinas dedicated this vase to the sons of tinia\n",
      "Prediction: this dedicated venel atelina tinia \n",
      "------------------------------------------------------------\n"
     ]
    }
   ],
   "source": [
    "print_example((et_etp[:5], eng_etp[:5], translations_etp[:5]))"
   ]
  },
  {
   "attachments": {},
   "cell_type": "markdown",
   "metadata": {},
   "source": [
    "## CIEP only, BlankSpace Tokenizer"
   ]
  },
  {
   "cell_type": "code",
   "execution_count": 11,
   "metadata": {},
   "outputs": [],
   "source": [
    "et_ciep, eng_ciep = Data.load_translation_dataset(subset=\"ciep\", etruscan_fn=clean_etruscan, english_fn=clean_english)"
   ]
  },
  {
   "cell_type": "code",
   "execution_count": 12,
   "metadata": {},
   "outputs": [],
   "source": [
    "model_ciep = DictionaryTranslation(Data._dir + \"ETP_POS.csv\", etruscan_fn=clean_etruscan, english_fn=clean_english)"
   ]
  },
  {
   "cell_type": "code",
   "execution_count": 13,
   "metadata": {},
   "outputs": [
    {
     "data": {
      "text/plain": [
       "{'bleu': 2.4033683935548834e-06,\n",
       " 'chrf': 1.896459864075202,\n",
       " 'ter': 98.67191342843088}"
      ]
     },
     "execution_count": 13,
     "metadata": {},
     "output_type": "execute_result"
    }
   ],
   "source": [
    "translations_ciep = [model_ciep.predict(i) for i in et_ciep]\n",
    "scores_ciep = compute_metrics(translations_ciep, eng_ciep)\n",
    "scores_ciep"
   ]
  },
  {
   "cell_type": "code",
   "execution_count": 14,
   "metadata": {},
   "outputs": [
    {
     "name": "stdout",
     "output_type": "stream",
     "text": [
      "------------------------------------------------------------\n",
      "Etruscan: tularspu\n",
      "Reference: boundaries\n",
      "Prediction: \n",
      "------------------------------------------------------------\n",
      "------------------------------------------------------------\n",
      "Etruscan: visl\n",
      "Reference: of the goddess vipsi\n",
      "Prediction: \n",
      "------------------------------------------------------------\n",
      "------------------------------------------------------------\n",
      "Etruscan: atichu\n",
      "Reference: built\n",
      "Prediction: \n",
      "------------------------------------------------------------\n",
      "------------------------------------------------------------\n",
      "Etruscan: cneunas\n",
      "Reference: cneunas\n",
      "Prediction: \n",
      "------------------------------------------------------------\n",
      "------------------------------------------------------------\n",
      "Etruscan: thusathur\n",
      "Reference: herethe bones\n",
      "Prediction: \n",
      "------------------------------------------------------------\n"
     ]
    }
   ],
   "source": [
    "print_example((et_ciep[:5], eng_ciep[:5], translations_ciep[:5]))"
   ]
  },
  {
   "attachments": {},
   "cell_type": "markdown",
   "metadata": {},
   "source": [
    "## ETP only, Remove suffixes"
   ]
  },
  {
   "cell_type": "code",
   "execution_count": 15,
   "metadata": {},
   "outputs": [
    {
     "name": "stdout",
     "output_type": "stream",
     "text": [
      "Terminal suffixes: 169\n",
      "Non-terminal suffixes: 9\n"
     ]
    }
   ],
   "source": [
    "suffix_tokenizer = Data.SuffixTokenizer()\n",
    "def suffix_tokenize(x):\n",
    "    return suffix_tokenizer(x)[0]\n",
    "\n",
    "print(\"Terminal suffixes:\", len(suffix_tokenizer._terminal_suffixes))\n",
    "print(\"Non-terminal suffixes:\", len(suffix_tokenizer._non_terminal_suffixes))"
   ]
  },
  {
   "cell_type": "code",
   "execution_count": 16,
   "metadata": {},
   "outputs": [],
   "source": [
    "model_etp_no_suff = DictionaryTranslation(Data._dir + \"ETP_POS.csv\", etruscan_fn=clean_etruscan, english_fn=clean_english, tokenize_dictionary=suffix_tokenize, tokenizer=suffix_tokenizer)"
   ]
  },
  {
   "cell_type": "code",
   "execution_count": 17,
   "metadata": {},
   "outputs": [
    {
     "data": {
      "text/plain": [
       "{'bleu': 1.6054153572561898,\n",
       " 'chrf': 37.669248578243696,\n",
       " 'ter': 82.66613290632506}"
      ]
     },
     "execution_count": 17,
     "metadata": {},
     "output_type": "execute_result"
    }
   ],
   "source": [
    "translations_etp_no_suff = [model_etp_no_suff.predict(i) for i in et_etp]\n",
    "scores_etp_no_suff = compute_metrics(translations_etp_no_suff, eng_etp)\n",
    "scores_etp_no_suff"
   ]
  },
  {
   "cell_type": "code",
   "execution_count": 18,
   "metadata": {},
   "outputs": [
    {
     "name": "stdout",
     "output_type": "stream",
     "text": [
      "------------------------------------------------------------\n",
      "Etruscan: cleusinas laris larisal clan\n",
      "Reference: laris cleusinas son of laris\n",
      "Prediction: cleusinas          son\n",
      "------------------------------------------------------------\n",
      "------------------------------------------------------------\n",
      "Etruscan: mi karkanas thahvna\n",
      "Reference: i am the container of karkana\n",
      "Prediction:   karkana  container \n",
      "------------------------------------------------------------\n",
      "------------------------------------------------------------\n",
      "Etruscan: mi ei minpi capi mi numar thevruclnas qupes fulushla\n",
      "Reference: dont take me i am nunar i am the property of qupe thevrudnas the son of fulu\n",
      "Prediction:   this  me pisna take pisna   numna constructed thevruclnas  qupe  fulu \n",
      "------------------------------------------------------------\n",
      "------------------------------------------------------------\n",
      "Etruscan: mini muluvanice tetana velkasnas veleliiasi\n",
      "Reference: tetana velkasnas gave me to velellia\n",
      "Prediction:    gave  three this tetana  velkasnas   veleliia   \n",
      "------------------------------------------------------------\n",
      "------------------------------------------------------------\n",
      "Etruscan: itun turuce venel atelinas tinas dlniiaras\n",
      "Reference: venel atelinas dedicated this vase to the sons of tinia\n",
      "Prediction: this for him dedicated three this venel laris atelina   shows    \n",
      "------------------------------------------------------------\n"
     ]
    }
   ],
   "source": [
    "print_example((et_etp[:5], eng_etp[:5], translations_etp_no_suff[:5]))"
   ]
  },
  {
   "cell_type": "code",
   "execution_count": null,
   "metadata": {},
   "outputs": [],
   "source": []
  }
 ],
 "metadata": {
  "kernelspec": {
   "display_name": "etruscan",
   "language": "python",
   "name": "python3"
  },
  "language_info": {
   "codemirror_mode": {
    "name": "ipython",
    "version": 3
   },
   "file_extension": ".py",
   "mimetype": "text/x-python",
   "name": "python",
   "nbconvert_exporter": "python",
   "pygments_lexer": "ipython3",
   "version": "3.11.3"
  },
  "orig_nbformat": 4
 },
 "nbformat": 4,
 "nbformat_minor": 2
}
