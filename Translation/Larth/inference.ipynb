{
 "cells": [
  {
   "attachments": {},
   "cell_type": "markdown",
   "metadata": {},
   "source": [
    "# Inference Demo"
   ]
  },
  {
   "cell_type": "code",
   "execution_count": 1,
   "metadata": {},
   "outputs": [
    {
     "name": "stderr",
     "output_type": "stream",
     "text": [
      "2023-05-16 11:02:27.937242: W tensorflow/compiler/tf2tensorrt/utils/py_utils.cc:38] TF-TRT Warning: Could not find TensorRT\n"
     ]
    }
   ],
   "source": [
    "import data_utils\n",
    "import inference\n",
    "import train_utils\n",
    "import ithaca_like"
   ]
  },
  {
   "cell_type": "code",
   "execution_count": 2,
   "metadata": {},
   "outputs": [],
   "source": [
    "params = inference.load_params(\"LatinTatoebaDebug/36/default/\")\n",
    "model_config = ithaca_like.IthacaTranslationConfig(**train_utils.parse_config(\"latin_tatoeba_model.yml\"))\n",
    "\n",
    "(\n",
    "    train_dl,\n",
    "    test_dl, \n",
    "    source_tokenizer, \n",
    "    target_tokenizer\n",
    ") = data_utils.get_training_data(train_utils.TrainConfig(**train_utils.parse_config(\"latin_tatoeba_train.yml\")), model_config.max_len)\n",
    "\n",
    "\n",
    "model_config = model_config.replace(\n",
    "    char_vocab_size=source_tokenizer.vocab_size(words=False),\n",
    "    word_vocab_size=source_tokenizer.vocab_size(),\n",
    "    out_char_vocab_size=target_tokenizer.vocab_size(words=False),\n",
    "    out_word_vocab_size=target_tokenizer.vocab_size(),\n",
    "    deterministic=True,\n",
    "    decode=True,\n",
    ")"
   ]
  },
  {
   "cell_type": "code",
   "execution_count": 3,
   "metadata": {},
   "outputs": [
    {
     "data": {
      "text/plain": [
       "IthacaTranslationConfig(char_vocab_size=31, word_char_emb_size=256, word_vocab_size=10000, out_char_vocab_size=31, out_word_vocab_size=10000, emb_size=256, max_len=256, dropout=0.1, dtype='float32', decode=True, layers=2, qkv_dim=256, mlp_dim=512, num_heads=8, attention_dropout=0.1, activation_fn='gelu', block_size=8, deterministic=True)"
      ]
     },
     "execution_count": 3,
     "metadata": {},
     "output_type": "execute_result"
    }
   ],
   "source": [
    "model_config"
   ]
  },
  {
   "cell_type": "code",
   "execution_count": 4,
   "metadata": {},
   "outputs": [],
   "source": [
    "test_dl.array_only = False\n",
    "it = iter(test_dl)"
   ]
  },
  {
   "cell_type": "code",
   "execution_count": 5,
   "metadata": {},
   "outputs": [
    {
     "data": {
      "text/plain": [
       "{'source': ['feles super sellam sedebat',\n",
       "  'puer lapidem iacit',\n",
       "  'annus mmxvi simiae est',\n",
       "  'abraham nonaginta novem erat annorum quando circumcisus est in carne praeputii sui et ismael filius eius tredecim annos impleverat tempore circumcisionis suae',\n",
       "  'feles homo non est',\n",
       "  'festinavit abraham in tabernaculum ad saram dixitque accelera tria sata similae commisce et fac subcinericios panes',\n",
       "  'surrexit abraham et adoravit populum terrae filios videlicet heth dixitque ad eos si placet animae vestrae ut sepeliam mortuum meum audite me et intercedite pro me apud ephron filium seor ut det mihi speluncam machpela quam habet in extrema parte agri su',\n",
       "  'da mihi cervisiam quaeso',\n",
       "  'raeda celerior quam birota est',\n",
       "  'liber e charta factus est',\n",
       "  'felis domum a muribus purgat',\n",
       "  'profectus inde abraham in terram nageb habitavit inter cades et sur et peregrinatus est in geraris',\n",
       "  'traditum est homerum caecum fuisse',\n",
       "  'abel quoque obtulit de primogenitis gregis sui et de adipibus eorum et respexit dominus ad abel et ad munus eius',\n",
       "  'abram habitavit in terra chanaan lot vero moratus est in oppidis quae erant circa iordanem et tabernacula movit usque ad sodomam',\n",
       "  'machina computatoria praesentior est quam abacus'],\n",
       " 'source_chars': Array([[ 1,  4, 20, ...,  0,  0,  0],\n",
       "        [ 1,  4, 19, ...,  0,  0,  0],\n",
       "        [ 1,  4,  8, ...,  0,  0,  0],\n",
       "        ...,\n",
       "        [ 1,  4,  8, ...,  0,  0,  0],\n",
       "        [ 1,  4,  8, ...,  0,  0,  0],\n",
       "        [ 1,  4, 14, ...,  0,  0,  0]], dtype=int32),\n",
       " 'source_words': Array([[   1,    4, 2399, ...,    0,    0,    0],\n",
       "        [   1,    4, 1004, ...,    0,    0,    0],\n",
       "        [   1,    4, 4324, ...,    0,    0,    0],\n",
       "        ...,\n",
       "        [   1,    4, 4217, ...,    0,    0,    0],\n",
       "        [   1,    4, 5247, ...,    0,    0,    0],\n",
       "        [   1,    4, 7899, ...,    0,    0,    0]], dtype=int32),\n",
       " 'target': ['a cat was sitting on the chair',\n",
       "  'a boy is throwing a stone',\n",
       "  'is the year of the monkey',\n",
       "  'abraham was ninety and nine years old when he circumcised the flesh of his foreskin and ismael his son was full thirteen years old at the time of his circumcision',\n",
       "  'a cat is not a person',\n",
       "  'abraham made haste into the tent to sara and said to her make haste temper together three measures of flour and make cakes upon the hearth',\n",
       "  'abraham rose up and bowed down to the people of the land to wit the children of heth and said to them if it please your soul that i should bury my dead hear me and intercede for me to ephron the son of seor that he may give me the double cave which he ha',\n",
       "  'a beer for me please',\n",
       "  'a car is faster than a bicycle',\n",
       "  'a book is made of paper',\n",
       "  'a cat rids the house of mice',\n",
       "  'abraham removed from thence to the south country and dwelt between cades and sur and sojourned in gerara',\n",
       "  'according to tradition homer was blind',\n",
       "  'abel also offered of the firstlings of his flock and of their fat and the lord had respect to abel and to his offerings',\n",
       "  'abram dwelt in the land of canaan and lot abode in the towns that were about the jordan and dwelt in sodom',\n",
       "  'a calculator is more efficient than an abacus'],\n",
       " 'target_chars': Array([[1, 4, 8, ..., 0, 0, 0],\n",
       "        [1, 4, 8, ..., 0, 0, 0],\n",
       "        [1, 4, 6, ..., 0, 0, 0],\n",
       "        ...,\n",
       "        [1, 4, 8, ..., 0, 0, 0],\n",
       "        [1, 4, 8, ..., 0, 0, 0],\n",
       "        [1, 4, 8, ..., 0, 0, 0]], dtype=int32),\n",
       " 'target_words': Array([[   1,    4,    9, ...,    0,    0,    0],\n",
       "        [   1,    4,    9, ...,    0,    0,    0],\n",
       "        [   1,    4,   14, ...,    0,    0,    0],\n",
       "        ...,\n",
       "        [   1,    4, 4217, ...,    0,    0,    0],\n",
       "        [   1,    4, 5247, ...,    0,    0,    0],\n",
       "        [   1,    4,    9, ...,    0,    0,    0]], dtype=int32)}"
      ]
     },
     "execution_count": 5,
     "metadata": {},
     "output_type": "execute_result"
    }
   ],
   "source": [
    "batch = next(it)\n",
    "batch"
   ]
  },
  {
   "cell_type": "code",
   "execution_count": 6,
   "metadata": {},
   "outputs": [
    {
     "name": "stderr",
     "output_type": "stream",
     "text": [
      "100%|██████████| 1/1 [00:11<00:00, 11.55s/it]\n"
     ]
    }
   ],
   "source": [
    "s, t = inference.translate(\n",
    "    batch[\"source\"],\n",
    "    params,\n",
    "    source_tokenizer,\n",
    "    target_tokenizer,\n",
    "    len(batch[\"source\"]),\n",
    "    4,\n",
    "    model_config.max_len,\n",
    "    model_config\n",
    ")"
   ]
  },
  {
   "cell_type": "code",
   "execution_count": 7,
   "metadata": {},
   "outputs": [
    {
     "data": {
      "text/plain": [
       "['feles super sellam sedebat',\n",
       " 'puer lapidem iacit',\n",
       " 'annus mmxvi simiae est',\n",
       " 'abraham nonaginta novem erat annorum quando circumcisus est in carne praeputii sui et ismael filius eius tredecim annos impleverat tempore circumcisionis suae',\n",
       " 'feles homo non est',\n",
       " 'festinavit abraham in tabernaculum ad saram dixitque accelera tria sata similae commisce et fac subcinericios panes',\n",
       " '',\n",
       " 'da mihi cervisiam quaeso',\n",
       " 'raeda celerior quam birota est',\n",
       " 'liber e charta factus est',\n",
       " 'felis domum a muribus purgat',\n",
       " 'profectus inde abraham in terram nageb habitavit inter cades et sur et peregrinatus est in geraris',\n",
       " 'traditum est homerum caecum fuisse',\n",
       " 'abel quoque obtulit de primogenitis gregis sui et de adipibus eorum et respexit dominus ad abel et ad munus eius',\n",
       " 'abram habitavit in terra chanaan lot vero moratus est in oppidis quae erant circa iordanem et tabernacula movit usque ad sodomam',\n",
       " 'machina computatoria praesentior est quam abacus']"
      ]
     },
     "execution_count": 7,
     "metadata": {},
     "output_type": "execute_result"
    }
   ],
   "source": [
    "s"
   ]
  },
  {
   "cell_type": "code",
   "execution_count": 8,
   "metadata": {},
   "outputs": [
    {
     "data": {
      "text/plain": [
       "['the',\n",
       " 'you',\n",
       " 'i',\n",
       " 'and',\n",
       " 'you',\n",
       " 'and',\n",
       " 'and',\n",
       " 'i',\n",
       " 'i',\n",
       " 'you',\n",
       " 'the',\n",
       " 'and',\n",
       " 'the',\n",
       " 'and',\n",
       " 'and',\n",
       " 'the']"
      ]
     },
     "execution_count": 8,
     "metadata": {},
     "output_type": "execute_result"
    }
   ],
   "source": [
    "t"
   ]
  },
  {
   "cell_type": "code",
   "execution_count": null,
   "metadata": {},
   "outputs": [],
   "source": []
  }
 ],
 "metadata": {
  "kernelspec": {
   "display_name": "etruscan",
   "language": "python",
   "name": "python3"
  },
  "language_info": {
   "codemirror_mode": {
    "name": "ipython",
    "version": 3
   },
   "file_extension": ".py",
   "mimetype": "text/x-python",
   "name": "python",
   "nbconvert_exporter": "python",
   "pygments_lexer": "ipython3",
   "version": "3.11.3"
  },
  "orig_nbformat": 4
 },
 "nbformat": 4,
 "nbformat_minor": 2
}
