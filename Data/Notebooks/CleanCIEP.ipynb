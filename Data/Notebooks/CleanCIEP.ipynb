{
 "cells": [
  {
   "cell_type": "code",
   "execution_count": 1,
   "metadata": {},
   "outputs": [],
   "source": [
    "import pandas as pd\n",
    "import numpy as np\n",
    "from tqdm import tqdm\n",
    "import nltk\n",
    "\n",
    "import sys\n",
    "sys.path.append(\"../..\")\n",
    "import utils"
   ]
  },
  {
   "cell_type": "code",
   "execution_count": 2,
   "metadata": {},
   "outputs": [
    {
     "data": {
      "text/plain": [
       "<module 'utils' from '/media/gianluca/Shared/DKE/MasterThesis/Data/Notebooks/../../utils.py'>"
      ]
     },
     "execution_count": 2,
     "metadata": {},
     "output_type": "execute_result"
    }
   ],
   "source": [
    "import importlib\n",
    "importlib.reload(utils)"
   ]
  },
  {
   "cell_type": "code",
   "execution_count": 3,
   "metadata": {},
   "outputs": [
    {
     "data": {
      "text/html": [
       "<div>\n",
       "<style scoped>\n",
       "    .dataframe tbody tr th:only-of-type {\n",
       "        vertical-align: middle;\n",
       "    }\n",
       "\n",
       "    .dataframe tbody tr th {\n",
       "        vertical-align: top;\n",
       "    }\n",
       "\n",
       "    .dataframe thead th {\n",
       "        text-align: right;\n",
       "    }\n",
       "</style>\n",
       "<table border=\"1\" class=\"dataframe\">\n",
       "  <thead>\n",
       "    <tr style=\"text-align: right;\">\n",
       "      <th></th>\n",
       "      <th>key</th>\n",
       "      <th>T</th>\n",
       "      <th>C</th>\n",
       "      <th>A</th>\n",
       "      <th>CIEP</th>\n",
       "    </tr>\n",
       "  </thead>\n",
       "  <tbody>\n",
       "    <tr>\n",
       "      <th>0</th>\n",
       "      <td>2</td>\n",
       "      <td>thannia</td>\n",
       "      <td>thannia</td>\n",
       "      <td>ms-lucialauciathanniamr-</td>\n",
       "      <td>2</td>\n",
       "    </tr>\n",
       "    <tr>\n",
       "      <th>1</th>\n",
       "      <td>1</td>\n",
       "      <td>tularspu</td>\n",
       "      <td>NaN</td>\n",
       "      <td>boundaries</td>\n",
       "      <td>3</td>\n",
       "    </tr>\n",
       "    <tr>\n",
       "      <th>2</th>\n",
       "      <td>4</td>\n",
       "      <td>visl</td>\n",
       "      <td>vi(p)s(ia)l</td>\n",
       "      <td>of-the-goddess-vipsi</td>\n",
       "      <td>3</td>\n",
       "    </tr>\n",
       "    <tr>\n",
       "      <th>3</th>\n",
       "      <td>5</td>\n",
       "      <td>--echtatr--</td>\n",
       "      <td>NaN</td>\n",
       "      <td>NaN</td>\n",
       "      <td>3</td>\n",
       "    </tr>\n",
       "    <tr>\n",
       "      <th>4</th>\n",
       "      <td>2</td>\n",
       "      <td>NaN</td>\n",
       "      <td>papsinas</td>\n",
       "      <td>ofmr-aulepapsinamr-lariss</td>\n",
       "      <td>4</td>\n",
       "    </tr>\n",
       "    <tr>\n",
       "      <th>...</th>\n",
       "      <td>...</td>\n",
       "      <td>...</td>\n",
       "      <td>...</td>\n",
       "      <td>...</td>\n",
       "      <td>...</td>\n",
       "    </tr>\n",
       "    <tr>\n",
       "      <th>5828</th>\n",
       "      <td>1</td>\n",
       "      <td>pisna</td>\n",
       "      <td>NaN</td>\n",
       "      <td>NaN</td>\n",
       "      <td>21041</td>\n",
       "    </tr>\n",
       "    <tr>\n",
       "      <th>5829</th>\n",
       "      <td>1A</td>\n",
       "      <td>ru</td>\n",
       "      <td>NaN</td>\n",
       "      <td>mr-rufes</td>\n",
       "      <td>21046</td>\n",
       "    </tr>\n",
       "    <tr>\n",
       "      <th>5830</th>\n",
       "      <td>1A</td>\n",
       "      <td>ma</td>\n",
       "      <td>ma(rces)</td>\n",
       "      <td>mr-marces</td>\n",
       "      <td>21065</td>\n",
       "    </tr>\n",
       "    <tr>\n",
       "      <th>5831</th>\n",
       "      <td>1</td>\n",
       "      <td>kakas</td>\n",
       "      <td>NaN</td>\n",
       "      <td>NaN</td>\n",
       "      <td>21072</td>\n",
       "    </tr>\n",
       "    <tr>\n",
       "      <th>5832</th>\n",
       "      <td>1</td>\n",
       "      <td>NaN</td>\n",
       "      <td>mi larthias ur(ial)</td>\n",
       "      <td>NaN</td>\n",
       "      <td>21077</td>\n",
       "    </tr>\n",
       "  </tbody>\n",
       "</table>\n",
       "<p>5833 rows × 5 columns</p>\n",
       "</div>"
      ],
      "text/plain": [
       "     key            T                    C                          A   CIEP\n",
       "0      2      thannia              thannia   ms-lucialauciathanniamr-      2\n",
       "1      1     tularspu                  NaN                 boundaries      3\n",
       "2      4         visl          vi(p)s(ia)l       of-the-goddess-vipsi      3\n",
       "3      5  --echtatr--                  NaN                        NaN      3\n",
       "4      2          NaN             papsinas  ofmr-aulepapsinamr-lariss      4\n",
       "...   ..          ...                  ...                        ...    ...\n",
       "5828   1        pisna                  NaN                        NaN  21041\n",
       "5829  1A           ru                  NaN                   mr-rufes  21046\n",
       "5830  1A           ma             ma(rces)                  mr-marces  21065\n",
       "5831   1        kakas                  NaN                        NaN  21072\n",
       "5832   1          NaN  mi larthias ur(ial)                        NaN  21077\n",
       "\n",
       "[5833 rows x 5 columns]"
      ]
     },
     "execution_count": 3,
     "metadata": {},
     "output_type": "execute_result"
    }
   ],
   "source": [
    "ciep = pd.read_csv(\"../CIEP_pymupdf.csv\")\n",
    "ciep"
   ]
  },
  {
   "cell_type": "code",
   "execution_count": 4,
   "metadata": {},
   "outputs": [
    {
     "data": {
      "text/plain": [
       "' ()-<>[]abcdefghiklmnopqrstuvwxyz{}'"
      ]
     },
     "execution_count": 4,
     "metadata": {},
     "output_type": "execute_result"
    }
   ],
   "source": [
    "all_chars = set(\" \".join(ciep[\"T\"].dropna().to_list())).union(\" \".join(ciep[\"C\"].dropna().to_list()))\n",
    "\"\".join(sorted(list(all_chars)))"
   ]
  },
  {
   "cell_type": "code",
   "execution_count": 5,
   "metadata": {},
   "outputs": [
    {
     "data": {
      "text/plain": [
       "' -abcdefghijklmnopqrstuvwxyz'"
      ]
     },
     "execution_count": 5,
     "metadata": {},
     "output_type": "execute_result"
    }
   ],
   "source": [
    "all_eng_chars = set(\" \".join(ciep[\"A\"].dropna().to_list()))\n",
    "\"\".join(sorted(list(all_eng_chars)))"
   ]
  },
  {
   "cell_type": "code",
   "execution_count": 6,
   "metadata": {},
   "outputs": [
    {
     "name": "stdout",
     "output_type": "stream",
     "text": [
      "Documents: 4492\n",
      "Translations (lines): 2288\n",
      "Translations (documents): 1674\n"
     ]
    }
   ],
   "source": [
    "print(\"Documents:\", len(set(ciep[\"CIEP\"].to_list())))\n",
    "print(\"Translations (lines):\", len(ciep[\"A\"].dropna()))\n",
    "print(\"Translations (documents):\", len(set(ciep.dropna(subset=\"A\")[\"CIEP\"].to_list())))"
   ]
  },
  {
   "cell_type": "code",
   "execution_count": 7,
   "metadata": {},
   "outputs": [],
   "source": [
    "# ciep[\"T\"] = ciep[\"T\"].apply(lambda x: utils.replace(x, utils.to_latin))\n",
    "# ciep[\"C\"] = ciep[\"C\"].apply(lambda x: utils.replace(x, utils.to_latin))"
   ]
  },
  {
   "cell_type": "code",
   "execution_count": 8,
   "metadata": {},
   "outputs": [],
   "source": [
    "bad_chars = \"φ=!#&*+,?^¯°ÁÆÈÌÍÎÑÛĀĎŠƆƎƧƸǀʃʽ'̣ΑΒΓΔΕΖΗΘΙΚΛΜΝΞΟΠΡΣΤΥΧΩϘϽԐאבדהוזחיךכלםמןנעפקרשת—―‖‛‾ↄ←↑→↓∞∩∫⌠─│┌┐└┘├┤┼═╕╘╪█▌▐◊♠♥\\ue76c\\uf03e\\uf03f\\uf04c\\uf04d\\uf04e\\uf04f\\uf099\\uf0a4\\uf0c6\\uf0ca\\uf0d4\\uf0da\\uf0db\\uf0dc�\".lower()\n",
    "\n",
    "def contains_bad_char(s, bad_chars):\n",
    "    if s is not None and s is not np.nan:\n",
    "        for i in bad_chars:\n",
    "            if i in s.lower():\n",
    "                return True\n",
    "    return False"
   ]
  },
  {
   "cell_type": "code",
   "execution_count": 9,
   "metadata": {},
   "outputs": [
    {
     "name": "stdout",
     "output_type": "stream",
     "text": [
      "Bad examples: 0\n"
     ]
    }
   ],
   "source": [
    "bad_mask = ciep[\"T\"].apply(lambda x: contains_bad_char(x, bad_chars)) | ciep[\"C\"].apply(lambda x: contains_bad_char(x, bad_chars))\n",
    "print(\"Bad examples:\", bad_mask.sum())"
   ]
  },
  {
   "cell_type": "code",
   "execution_count": 10,
   "metadata": {},
   "outputs": [
    {
     "data": {
      "text/html": [
       "<div>\n",
       "<style scoped>\n",
       "    .dataframe tbody tr th:only-of-type {\n",
       "        vertical-align: middle;\n",
       "    }\n",
       "\n",
       "    .dataframe tbody tr th {\n",
       "        vertical-align: top;\n",
       "    }\n",
       "\n",
       "    .dataframe thead th {\n",
       "        text-align: right;\n",
       "    }\n",
       "</style>\n",
       "<table border=\"1\" class=\"dataframe\">\n",
       "  <thead>\n",
       "    <tr style=\"text-align: right;\">\n",
       "      <th></th>\n",
       "      <th>key</th>\n",
       "      <th>T</th>\n",
       "      <th>C</th>\n",
       "      <th>A</th>\n",
       "      <th>CIEP</th>\n",
       "    </tr>\n",
       "  </thead>\n",
       "  <tbody>\n",
       "  </tbody>\n",
       "</table>\n",
       "</div>"
      ],
      "text/plain": [
       "Empty DataFrame\n",
       "Columns: [key, T, C, A, CIEP]\n",
       "Index: []"
      ]
     },
     "execution_count": 10,
     "metadata": {},
     "output_type": "execute_result"
    }
   ],
   "source": [
    "bad = ciep[bad_mask]\n",
    "bad"
   ]
  }
 ],
 "metadata": {
  "kernelspec": {
   "display_name": "etruscan",
   "language": "python",
   "name": "python3"
  },
  "language_info": {
   "codemirror_mode": {
    "name": "ipython",
    "version": 3
   },
   "file_extension": ".py",
   "mimetype": "text/x-python",
   "name": "python",
   "nbconvert_exporter": "python",
   "pygments_lexer": "ipython3",
   "version": "3.11.0"
  },
  "orig_nbformat": 4,
  "vscode": {
   "interpreter": {
    "hash": "013aae73bde15ce377457fd8870d15060dc8e5f6ca43ae7bb0be23f3e535538f"
   }
  }
 },
 "nbformat": 4,
 "nbformat_minor": 2
}
